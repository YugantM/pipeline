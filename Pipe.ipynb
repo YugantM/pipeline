{
 "cells": [
  {
   "cell_type": "code",
   "execution_count": 29,
   "metadata": {},
   "outputs": [],
   "source": [
    "import os\n",
    "from glob import glob"
   ]
  },
  {
   "cell_type": "code",
   "execution_count": 45,
   "metadata": {},
   "outputs": [],
   "source": [
    "from distutils.dir_util import copy_tree"
   ]
  },
  {
   "cell_type": "code",
   "execution_count": 30,
   "metadata": {},
   "outputs": [],
   "source": [
    "folder_paths = [each for each in glob(\"./package_need_PKGBUILD/*\")]"
   ]
  },
  {
   "cell_type": "code",
   "execution_count": 42,
   "metadata": {},
   "outputs": [
    {
     "data": {
      "text/plain": [
       "['./package_need_PKGBUILD/python-catkin_pkg',\n",
       " './package_need_PKGBUILD/console_bridge',\n",
       " './package_need_PKGBUILD/ros-melodic-message-runtime',\n",
       " './package_need_PKGBUILD/ros-melodic-roscpp-traits',\n",
       " './package_need_PKGBUILD/ros-melodic-catkin',\n",
       " './package_need_PKGBUILD/ros-melodic-cpp-common',\n",
       " './package_need_PKGBUILD/ros-build-tools-py3']"
      ]
     },
     "execution_count": 42,
     "metadata": {},
     "output_type": "execute_result"
    }
   ],
   "source": [
    "folder_paths"
   ]
  },
  {
   "cell_type": "code",
   "execution_count": 34,
   "metadata": {},
   "outputs": [],
   "source": [
    "def mkdr(path):\n",
    "    if not os.path.exists(path):\n",
    "        os.mkdir(path)"
   ]
  },
  {
   "cell_type": "code",
   "execution_count": 35,
   "metadata": {},
   "outputs": [
    {
     "data": {
      "text/plain": [
       "[None, None, None, None, None, None, None]"
      ]
     },
     "execution_count": 35,
     "metadata": {},
     "output_type": "execute_result"
    }
   ],
   "source": [
    "path = \"./PKGBUILDs/\"\n",
    "[mkdr(path+each.split('/')[-1]) for each in folder_paths]\n",
    "[mkdr(path+each.split('/')[-1]+\"/PKGBUILD\") for each in folder_paths]\n",
    "[mkdr(path+each.split('/')[-1]+\"/src\") for each in folder_paths]"
   ]
  },
  {
   "cell_type": "code",
   "execution_count": null,
   "metadata": {},
   "outputs": [],
   "source": [
    "for each in folder_paths:\n",
    "    copy_tree(each, \"./PKGBUILDs/\"+each.split(\"/\")[-1]+\"/src\")"
   ]
  },
  {
   "cell_type": "code",
   "execution_count": 53,
   "metadata": {},
   "outputs": [],
   "source": [
    "for each in folder_paths:\n",
    "    \n",
    "    pkgbuild = []\n",
    "    pkg_name = each.split(\"/\")[-1]\n",
    "    pkgbuild.append(\"# PKGBUILD for {0}\".format(pkg_name))\n",
    "    pkgbuild.append(\"pkgname= {0}\".format(pkg_name))\n",
    "    pkgbuild.append(\"pkgver= {0}\".format(\"1.0.1\"))\n",
    "    \n",
    "    \n",
    "    with open(path+each.split('/')[-1]+\"/PKGBUILD\",\"w\") as f:\n",
    "        f.writelines(each + '\\n' for each in pkgbuild)\n",
    "    \n",
    "    \n"
   ]
  },
  {
   "cell_type": "code",
   "execution_count": 44,
   "metadata": {},
   "outputs": [],
   "source": []
  },
  {
   "cell_type": "code",
   "execution_count": null,
   "metadata": {},
   "outputs": [],
   "source": []
  },
  {
   "cell_type": "code",
   "execution_count": null,
   "metadata": {},
   "outputs": [],
   "source": []
  },
  {
   "cell_type": "code",
   "execution_count": null,
   "metadata": {},
   "outputs": [],
   "source": []
  },
  {
   "cell_type": "code",
   "execution_count": null,
   "metadata": {},
   "outputs": [],
   "source": []
  },
  {
   "cell_type": "code",
   "execution_count": null,
   "metadata": {},
   "outputs": [],
   "source": []
  }
 ],
 "metadata": {
  "kernelspec": {
   "display_name": "Python 3",
   "language": "python",
   "name": "python3"
  },
  "language_info": {
   "codemirror_mode": {
    "name": "ipython",
    "version": 3
   },
   "file_extension": ".py",
   "mimetype": "text/x-python",
   "name": "python",
   "nbconvert_exporter": "python",
   "pygments_lexer": "ipython3",
   "version": "3.7.4"
  }
 },
 "nbformat": 4,
 "nbformat_minor": 2
}
